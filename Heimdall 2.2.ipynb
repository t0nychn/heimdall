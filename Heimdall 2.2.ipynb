{
 "cells": [
  {
   "cell_type": "markdown",
   "metadata": {},
   "source": [
    "# Heimdall"
   ]
  },
  {
   "cell_type": "markdown",
   "metadata": {},
   "source": [
    "    Version: 2.2\n",
    "    Author: Tony Chen\n",
    "    Last update: 2021-03-12\n",
    "    \n",
    "Heimdall is a powerful multi-keyword search compilation tool for Weibo posts. It has been successfully tested for 55 search terms, which yielded 1,014 results. This version of Heimdall was built to be used without prior coding experience, enabled for web browsers via Binder and Jupyter Notebook. For any comments or suggestions on Heimdall please get in touch through: https://forms.gle/uMDu59PDbt4xPeVF6\n",
    "\n",
    "    Usage Instructions:\n",
    "    1) Make sure you have the Required Installations for this session\n",
    "    2) Run Heimdall using the Run button\n",
    "    3) Input the desired search terms, seperated with Space (to replicate Space within search terms use '%20')\n",
    "    4) Press Enter\n",
    "    5) File > Print Preview to read results (opens on seperate HTML page)\n",
    "    6) File > Download > HTML to download search results\n",
    "    7) Press ⏩ to restart Heimdall to initiate each new search\n",
    "\n",
    "    IMPORTANT: a) TO RUN MORE THAN ONE SEARCH HEIMDALL MUST BE RESTARTED AFTER EACH SEARCH (⏩ or 🔄️)\n",
    "               b) MAKE SURE THE CODE SECTION IS SELECTED (SELECTION INDICATED BY LEFT BLUE LINE)\n",
    "               c) MAKE SURE TO SAVE YOUR SEARCH EARLY - BINDER HAS A VERY SHORT TIMEOUT FOR SESSIONS\n"
   ]
  },
  {
   "cell_type": "code",
   "execution_count": null,
   "metadata": {},
   "outputs": [],
   "source": [
    "%run heimdall_2.2_script.py"
   ]
  }
 ],
 "metadata": {
  "kernelspec": {
   "display_name": "Python 3",
   "language": "python",
   "name": "python3"
  },
  "language_info": {
   "codemirror_mode": {
    "name": "ipython",
    "version": 3
   },
   "file_extension": ".py",
   "mimetype": "text/x-python",
   "name": "python",
   "nbconvert_exporter": "python",
   "pygments_lexer": "ipython3",
   "version": "3.8.3"
  }
 },
 "nbformat": 4,
 "nbformat_minor": 4
}
