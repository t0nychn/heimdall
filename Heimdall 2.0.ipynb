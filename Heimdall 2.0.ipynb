{
 "cells": [
  {
   "cell_type": "markdown",
   "metadata": {},
   "source": [
    "# Heimdall"
   ]
  },
  {
   "cell_type": "markdown",
   "metadata": {},
   "source": [
    "    Version: 2.0 (Beta testing)\n",
    "    Author: Tony Chen\n",
    "    Last update: 2021-02-17\n",
    "    \n",
    "This version of Heimdall was built to be used without prior coding experience.\n",
    "\n",
    "    Usage instructions:\n",
    "    1) Run Heimdall using the Run function\n",
    "    2) Input the desired search terms, seperated with Space (to replicate Space within search terms use '%20')\n",
    "    3) Press Enter\n",
    "    4) File > Print Preview to check for search results on seperate HTML page\n",
    "    5) File > Download > HTML to download search results\n",
    "    6) Use the Restart button before running a new search\n",
    "\n",
    "    IMPORTANT: TO RUN MULTIPLE SEARCHES HEIMDALL MUST BE RESTARTED AFTER EACH SEARCH\n",
    "\n",
    "For any suggestions on Heimdall please get in touch via: https://forms.gle/uMDu59PDbt4xPeVF6"
   ]
  },
  {
   "cell_type": "code",
   "execution_count": null,
   "metadata": {},
   "outputs": [],
   "source": [
    "%run Heimdall_2.0_script.py"
   ]
  }
 ],
 "metadata": {
  "kernelspec": {
   "display_name": "Python 3",
   "language": "python",
   "name": "python3"
  },
  "language_info": {
   "codemirror_mode": {
    "name": "ipython",
    "version": 3
   },
   "file_extension": ".py",
   "mimetype": "text/x-python",
   "name": "python",
   "nbconvert_exporter": "python",
   "pygments_lexer": "ipython3",
   "version": "3.8.3"
  }
 },
 "nbformat": 4,
 "nbformat_minor": 4
}
