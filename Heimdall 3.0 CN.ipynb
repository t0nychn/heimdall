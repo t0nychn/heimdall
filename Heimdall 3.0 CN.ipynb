{
 "cells": [
  {
   "cell_type": "markdown",
   "metadata": {},
   "source": [
    "# Heimdall (海姆达尔）"
   ]
  },
  {
   "cell_type": "markdown",
   "metadata": {},
   "source": [
    "    版本：3.0\n",
    "    作者：Tony Chen\n",
    "    最后更新：2021-03-16\n",
    "    \n",
    "Heimdall是一个搜索新浪微博帖子的高级搜索引擎。它可以利用50个不同的关键词取得1,000多条帖子。此Heimdall版本专为中国劳工观察打造，利用人工智能荧光笔筛选搜索结果寻找信息丰富、有关剥削劳工的帖子。如果您对Heimdall有任何意见或建议，请通过以下方式联系：https://forms.gle/uMDu59PDbt4xPeVF6\n",
    "\n",
    "    使用说明：\n",
    "    1）确保您先运行了《Required Installations》笔记本\n",
    "    2）使用“Run”按钮运行Heimdall\n",
    "    3）输入所需的关键词，用空格键分隔（如要在关键词中复制空格，请使用'％20'）\n",
    "    4）输入完关键词后按Enter\n",
    "    5）File > Print Preview 预览搜索结果（会在新的的页上打开）\n",
    "    6）File > Download > HTML 以下载搜索结果\n",
    "    7）按⏩重新搜索\n",
    "    \n",
    "    重要提示：a）每次搜索完必须按⏩或🔄️键重启Heimdall才能再一次使用搜索功能\n",
    "             b）按“Run”时确保选择了代码段（请看左蓝线）\n",
    "             c）确保尽早下载搜索——Binder的超时时间非常短\n"
   ]
  },
  {
   "cell_type": "code",
   "execution_count": null,
   "metadata": {},
   "outputs": [],
   "source": [
    "%run heimdall_3.0_cn_script.py"
   ]
  }
 ],
 "metadata": {
  "kernelspec": {
   "display_name": "Python 3",
   "language": "python",
   "name": "python3"
  },
  "language_info": {
   "codemirror_mode": {
    "name": "ipython",
    "version": 3
   },
   "file_extension": ".py",
   "mimetype": "text/x-python",
   "name": "python",
   "nbconvert_exporter": "python",
   "pygments_lexer": "ipython3",
   "version": "3.8.3"
  }
 },
 "nbformat": 4,
 "nbformat_minor": 4
}
