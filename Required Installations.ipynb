{
 "cells": [
  {
   "cell_type": "markdown",
   "metadata": {},
   "source": [
    "# Required Installations"
   ]
  },
  {
   "cell_type": "markdown",
   "metadata": {},
   "source": [
    "Please press run Run for required package installations (saved to your current session on Binder) before initiating Heimdall.\n",
    "\n",
    "    IMPORTANT: a) MAKE SURE THE CODE SECTION IS SELECTED (SELECTION INDICATED BY LEFT BLUE LINE)\n",
    "               b) MAKE SURE YOU SEE THE 'ALL INSTALLATIONS FINISHED' MESSAGE BEFORE CLOSING THIS NOTEBOOK\n",
    "               \n",
    "在启动Heimdall之前，请按\"Run\"运行以获取必需的软件包安装（保存到Binder）。\n",
    "\n",
    "    重要提示：a）按“Run”时确保选择了代码段（请看左蓝线）\n",
    "             b）关闭本笔记本之前，请务必先查看“所有安装完成”的消息"
   ]
  },
  {
   "cell_type": "code",
   "execution_count": null,
   "metadata": {},
   "outputs": [],
   "source": [
    "%pip install scrapy\n",
    "%pip install pandas\n",
    "%pip install numpy\n",
    "%pip install sklearn\n",
    "%pip install jieba\n",
    "%pip install nltk\n",
    "%pip install hanziconv\n",
    "%pip install matplotlib\n",
    "print(\"\\nALL INSTALLATIONS FINISHED\")\n",
    "print(\"\\n所有安装完成\")"
   ]
  }
 ],
 "metadata": {
  "kernelspec": {
   "display_name": "Python 3",
   "language": "python",
   "name": "python3"
  },
  "language_info": {
   "codemirror_mode": {
    "name": "ipython",
    "version": 3
   },
   "file_extension": ".py",
   "mimetype": "text/x-python",
   "name": "python",
   "nbconvert_exporter": "python",
   "pygments_lexer": "ipython3",
   "version": "3.8.3"
  }
 },
 "nbformat": 4,
 "nbformat_minor": 4
}
