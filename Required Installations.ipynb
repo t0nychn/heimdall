{
 "cells": [
  {
   "cell_type": "markdown",
   "metadata": {},
   "source": [
    "# Required Installations"
   ]
  },
  {
   "cell_type": "markdown",
   "metadata": {},
   "source": [
    "Please press run Run for required package installations (saved to your current session on Binder) before initiating Heimdall.\n",
    "\n",
    "    IMPORTANT: a) MAKE SURE THE CODE SECTION IS SELECTED (SELECTION INDICATED BY LEFT BLUE LINE)\n",
    "               b) MAKE SURE BOTH PACKAGES HAVE FINISHED INSTALLING BEFORE CLOSING THIS NOTEBOOK"
   ]
  },
  {
   "cell_type": "code",
   "execution_count": null,
   "metadata": {},
   "outputs": [],
   "source": [
    "%pip install scrapy\n",
    "%pip install pandas"
   ]
  }
 ],
 "metadata": {
  "kernelspec": {
   "display_name": "Python 3",
   "language": "python",
   "name": "python3"
  },
  "language_info": {
   "codemirror_mode": {
    "name": "ipython",
    "version": 3
   },
   "file_extension": ".py",
   "mimetype": "text/x-python",
   "name": "python",
   "nbconvert_exporter": "python",
   "pygments_lexer": "ipython3",
   "version": "3.8.3"
  }
 },
 "nbformat": 4,
 "nbformat_minor": 4
}
